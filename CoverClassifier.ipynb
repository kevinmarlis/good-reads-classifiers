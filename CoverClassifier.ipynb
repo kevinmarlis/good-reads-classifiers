{
 "cells": [
  {
   "cell_type": "code",
   "execution_count": 237,
   "metadata": {},
   "outputs": [],
   "source": [
    "import os\n",
    "import operator\n",
    "\n",
    "import pandas as pd\n",
    "import numpy as np\n",
    "import nltk\n",
    "\n",
    "from tqdm import tqdm\n",
    "from sklearn.preprocessing import MultiLabelBinarizer\n",
    "from sklearn.model_selection import train_test_split\n",
    "from sklearn.metrics import hamming_loss, jaccard_score\n",
    "\n",
    "from skimage import data, io, transform\n",
    "from skimage import img_as_ubyte\n",
    "\n",
    "import tensorflow as tf\n",
    "from tensorflow.keras import Sequential\n",
    "from tensorflow.keras.layers import Flatten, Dense, Dropout, BatchNormalization, Conv2D, MaxPool2D\n",
    "from tensorflow.keras.optimizers import Adam\n",
    "from tensorflow.keras.preprocessing import image\n",
    "from tensorflow.keras.models import load_model\n",
    "\n",
    "import seaborn as sns\n",
    "import matplotlib as mpl\n",
    "import matplotlib.pyplot as plt\n",
    "%matplotlib inline"
   ]
  },
  {
   "cell_type": "markdown",
   "metadata": {},
   "source": [
    "# Preprocessing"
   ]
  },
  {
   "cell_type": "code",
   "execution_count": 30,
   "metadata": {},
   "outputs": [],
   "source": [
    "DF_PATH = 'goodreads-best-books/'\n",
    "IMAGES_PATH = 'goodreads-best-books/images/images/'"
   ]
  },
  {
   "cell_type": "code",
   "execution_count": 31,
   "metadata": {},
   "outputs": [
    {
     "name": "stdout",
     "output_type": "stream",
     "text": [
      "(54301, 12)\n"
     ]
    },
    {
     "data": {
      "text/html": [
       "<div>\n",
       "<style scoped>\n",
       "    .dataframe tbody tr th:only-of-type {\n",
       "        vertical-align: middle;\n",
       "    }\n",
       "\n",
       "    .dataframe tbody tr th {\n",
       "        vertical-align: top;\n",
       "    }\n",
       "\n",
       "    .dataframe thead th {\n",
       "        text-align: right;\n",
       "    }\n",
       "</style>\n",
       "<table border=\"1\" class=\"dataframe\">\n",
       "  <thead>\n",
       "    <tr style=\"text-align: right;\">\n",
       "      <th></th>\n",
       "      <th>book_authors</th>\n",
       "      <th>book_desc</th>\n",
       "      <th>book_edition</th>\n",
       "      <th>book_format</th>\n",
       "      <th>book_isbn</th>\n",
       "      <th>book_pages</th>\n",
       "      <th>book_rating</th>\n",
       "      <th>book_rating_count</th>\n",
       "      <th>book_review_count</th>\n",
       "      <th>book_title</th>\n",
       "      <th>genres</th>\n",
       "      <th>image_url</th>\n",
       "    </tr>\n",
       "  </thead>\n",
       "  <tbody>\n",
       "    <tr>\n",
       "      <th>0</th>\n",
       "      <td>Suzanne Collins</td>\n",
       "      <td>Winning will make you famous. Losing means cer...</td>\n",
       "      <td>NaN</td>\n",
       "      <td>Hardcover</td>\n",
       "      <td>9.78044E+12</td>\n",
       "      <td>374 pages</td>\n",
       "      <td>4.33</td>\n",
       "      <td>5519135</td>\n",
       "      <td>160706</td>\n",
       "      <td>The Hunger Games</td>\n",
       "      <td>Young Adult|Fiction|Science Fiction|Dystopia|F...</td>\n",
       "      <td>https://images.gr-assets.com/books/1447303603l...</td>\n",
       "    </tr>\n",
       "    <tr>\n",
       "      <th>1</th>\n",
       "      <td>J.K. Rowling|Mary GrandPré</td>\n",
       "      <td>There is a door at the end of a silent corrido...</td>\n",
       "      <td>US Edition</td>\n",
       "      <td>Paperback</td>\n",
       "      <td>9.78044E+12</td>\n",
       "      <td>870 pages</td>\n",
       "      <td>4.48</td>\n",
       "      <td>2041594</td>\n",
       "      <td>33264</td>\n",
       "      <td>Harry Potter and the Order of the Phoenix</td>\n",
       "      <td>Fantasy|Young Adult|Fiction</td>\n",
       "      <td>https://images.gr-assets.com/books/1255614970l...</td>\n",
       "    </tr>\n",
       "    <tr>\n",
       "      <th>2</th>\n",
       "      <td>Harper Lee</td>\n",
       "      <td>The unforgettable novel of a childhood in a sl...</td>\n",
       "      <td>50th Anniversary</td>\n",
       "      <td>Paperback</td>\n",
       "      <td>9.78006E+12</td>\n",
       "      <td>324 pages</td>\n",
       "      <td>4.27</td>\n",
       "      <td>3745197</td>\n",
       "      <td>79450</td>\n",
       "      <td>To Kill a Mockingbird</td>\n",
       "      <td>Classics|Fiction|Historical|Historical Fiction...</td>\n",
       "      <td>https://images.gr-assets.com/books/1361975680l...</td>\n",
       "    </tr>\n",
       "    <tr>\n",
       "      <th>3</th>\n",
       "      <td>Jane Austen|Anna Quindlen|Mrs. Oliphant|George...</td>\n",
       "      <td>«È cosa ormai risaputa che a uno scapolo in po...</td>\n",
       "      <td>Modern Library Classics, USA / CAN</td>\n",
       "      <td>Paperback</td>\n",
       "      <td>9.78068E+12</td>\n",
       "      <td>279 pages</td>\n",
       "      <td>4.25</td>\n",
       "      <td>2453620</td>\n",
       "      <td>54322</td>\n",
       "      <td>Pride and Prejudice</td>\n",
       "      <td>Classics|Fiction|Romance</td>\n",
       "      <td>https://images.gr-assets.com/books/1320399351l...</td>\n",
       "    </tr>\n",
       "    <tr>\n",
       "      <th>4</th>\n",
       "      <td>Stephenie Meyer</td>\n",
       "      <td>About three things I was absolutely positive.F...</td>\n",
       "      <td>NaN</td>\n",
       "      <td>Paperback</td>\n",
       "      <td>9.78032E+12</td>\n",
       "      <td>498 pages</td>\n",
       "      <td>3.58</td>\n",
       "      <td>4281268</td>\n",
       "      <td>97991</td>\n",
       "      <td>Twilight</td>\n",
       "      <td>Young Adult|Fantasy|Romance|Paranormal|Vampire...</td>\n",
       "      <td>https://images.gr-assets.com/books/1361039443l...</td>\n",
       "    </tr>\n",
       "  </tbody>\n",
       "</table>\n",
       "</div>"
      ],
      "text/plain": [
       "                                        book_authors  \\\n",
       "0                                    Suzanne Collins   \n",
       "1                         J.K. Rowling|Mary GrandPré   \n",
       "2                                         Harper Lee   \n",
       "3  Jane Austen|Anna Quindlen|Mrs. Oliphant|George...   \n",
       "4                                    Stephenie Meyer   \n",
       "\n",
       "                                           book_desc  \\\n",
       "0  Winning will make you famous. Losing means cer...   \n",
       "1  There is a door at the end of a silent corrido...   \n",
       "2  The unforgettable novel of a childhood in a sl...   \n",
       "3  «È cosa ormai risaputa che a uno scapolo in po...   \n",
       "4  About three things I was absolutely positive.F...   \n",
       "\n",
       "                         book_edition book_format    book_isbn book_pages  \\\n",
       "0                                 NaN   Hardcover  9.78044E+12  374 pages   \n",
       "1                          US Edition   Paperback  9.78044E+12  870 pages   \n",
       "2                    50th Anniversary   Paperback  9.78006E+12  324 pages   \n",
       "3  Modern Library Classics, USA / CAN   Paperback  9.78068E+12  279 pages   \n",
       "4                                 NaN   Paperback  9.78032E+12  498 pages   \n",
       "\n",
       "   book_rating  book_rating_count  book_review_count  \\\n",
       "0         4.33            5519135             160706   \n",
       "1         4.48            2041594              33264   \n",
       "2         4.27            3745197              79450   \n",
       "3         4.25            2453620              54322   \n",
       "4         3.58            4281268              97991   \n",
       "\n",
       "                                  book_title  \\\n",
       "0                           The Hunger Games   \n",
       "1  Harry Potter and the Order of the Phoenix   \n",
       "2                      To Kill a Mockingbird   \n",
       "3                        Pride and Prejudice   \n",
       "4                                   Twilight   \n",
       "\n",
       "                                              genres  \\\n",
       "0  Young Adult|Fiction|Science Fiction|Dystopia|F...   \n",
       "1                        Fantasy|Young Adult|Fiction   \n",
       "2  Classics|Fiction|Historical|Historical Fiction...   \n",
       "3                           Classics|Fiction|Romance   \n",
       "4  Young Adult|Fantasy|Romance|Paranormal|Vampire...   \n",
       "\n",
       "                                           image_url  \n",
       "0  https://images.gr-assets.com/books/1447303603l...  \n",
       "1  https://images.gr-assets.com/books/1255614970l...  \n",
       "2  https://images.gr-assets.com/books/1361975680l...  \n",
       "3  https://images.gr-assets.com/books/1320399351l...  \n",
       "4  https://images.gr-assets.com/books/1361039443l...  "
      ]
     },
     "execution_count": 31,
     "metadata": {},
     "output_type": "execute_result"
    }
   ],
   "source": [
    "books = pd.read_csv(DF_PATH + 'book_data.csv', encoding='utf8')\n",
    "print(books.shape)\n",
    "books.head()"
   ]
  },
  {
   "cell_type": "code",
   "execution_count": 32,
   "metadata": {},
   "outputs": [],
   "source": [
    "# Copy index as image name to maintain access to appropriate image file\n",
    "books['img_name'] = books.index"
   ]
  },
  {
   "cell_type": "code",
   "execution_count": 33,
   "metadata": {},
   "outputs": [
    {
     "data": {
      "text/plain": [
       "(50674, 4)"
      ]
     },
     "execution_count": 33,
     "metadata": {},
     "output_type": "execute_result"
    }
   ],
   "source": [
    "# Drop extra columns\n",
    "to_drop = ['book_desc', 'book_isbn', 'book_edition', 'book_format', 'book_pages', 'book_rating_count', 'book_review_count', 'book_rating']\n",
    "books.drop(to_drop, inplace=True, axis=1)\n",
    "\n",
    "# Move book_title column to after book_author\n",
    "headers = books.columns.tolist()\n",
    "headers = ['book_authors', 'book_title', 'image_url', 'img_name', 'genres']\n",
    "books = books[headers]\n",
    "\n",
    "# Remove extra author names\n",
    "books['book_authors'] = books['book_authors'].str.split('|').str[0]\n",
    "\n",
    "# Split label into list of genres\n",
    "books['genres'] = books['genres'].str.split('|')\n",
    "\n",
    "# Remove empty genres and book_desc\n",
    "books = books[books['genres'].notna()]\n",
    "\n",
    "# Remove rows with images with errors\n",
    "books = books[-books['img_name'].isin(['2833', '17637', '33060', '44763', '49439'])]\n",
    "\n",
    "# Remove rows with missing images\n",
    "books = books[books['image_url'].notnull()].reset_index(drop = True)\n",
    "books.drop(['image_url'], inplace=True, axis=1)\n",
    "\n",
    "books.shape"
   ]
  },
  {
   "cell_type": "code",
   "execution_count": 34,
   "metadata": {},
   "outputs": [
    {
     "name": "stdout",
     "output_type": "stream",
     "text": [
      "Matching image names: 50674\n"
     ]
    }
   ],
   "source": [
    "# Ensure image files and dataframe are synced\n",
    "file_names = list(books['img_name'].apply(lambda row: str(row) + '.jpg'))\n",
    "print(\"Matching image names: {}\".format(len(set(file_names).intersection(list(os.listdir(IMAGES_PATH))))))"
   ]
  },
  {
   "cell_type": "code",
   "execution_count": 36,
   "metadata": {},
   "outputs": [],
   "source": [
    "# Remove Fiction and Nonfiction since they are not considered genres\n",
    "books['genres'] = books.genres.apply(lambda x: [i for i in x if i not in ['Fiction', 'Nonfiction']])"
   ]
  },
  {
   "cell_type": "code",
   "execution_count": 37,
   "metadata": {},
   "outputs": [
    {
     "data": {
      "text/html": [
       "<div>\n",
       "<style scoped>\n",
       "    .dataframe tbody tr th:only-of-type {\n",
       "        vertical-align: middle;\n",
       "    }\n",
       "\n",
       "    .dataframe tbody tr th {\n",
       "        vertical-align: top;\n",
       "    }\n",
       "\n",
       "    .dataframe thead th {\n",
       "        text-align: right;\n",
       "    }\n",
       "</style>\n",
       "<table border=\"1\" class=\"dataframe\">\n",
       "  <thead>\n",
       "    <tr style=\"text-align: right;\">\n",
       "      <th></th>\n",
       "      <th>book_authors</th>\n",
       "      <th>book_title</th>\n",
       "      <th>img_name</th>\n",
       "      <th>genres</th>\n",
       "    </tr>\n",
       "  </thead>\n",
       "  <tbody>\n",
       "    <tr>\n",
       "      <th>0</th>\n",
       "      <td>Suzanne Collins</td>\n",
       "      <td>The Hunger Games</td>\n",
       "      <td>0</td>\n",
       "      <td>[Young Adult, Science Fiction, Dystopia, Fanta...</td>\n",
       "    </tr>\n",
       "    <tr>\n",
       "      <th>1</th>\n",
       "      <td>J.K. Rowling</td>\n",
       "      <td>Harry Potter and the Order of the Phoenix</td>\n",
       "      <td>1</td>\n",
       "      <td>[Fantasy, Young Adult]</td>\n",
       "    </tr>\n",
       "    <tr>\n",
       "      <th>2</th>\n",
       "      <td>Harper Lee</td>\n",
       "      <td>To Kill a Mockingbird</td>\n",
       "      <td>2</td>\n",
       "      <td>[Classics, Historical, Historical Fiction, Aca...</td>\n",
       "    </tr>\n",
       "    <tr>\n",
       "      <th>3</th>\n",
       "      <td>Jane Austen</td>\n",
       "      <td>Pride and Prejudice</td>\n",
       "      <td>3</td>\n",
       "      <td>[Classics, Romance]</td>\n",
       "    </tr>\n",
       "    <tr>\n",
       "      <th>4</th>\n",
       "      <td>Stephenie Meyer</td>\n",
       "      <td>Twilight</td>\n",
       "      <td>4</td>\n",
       "      <td>[Young Adult, Fantasy, Romance, Paranormal, Va...</td>\n",
       "    </tr>\n",
       "  </tbody>\n",
       "</table>\n",
       "</div>"
      ],
      "text/plain": [
       "      book_authors                                 book_title  img_name  \\\n",
       "0  Suzanne Collins                           The Hunger Games         0   \n",
       "1     J.K. Rowling  Harry Potter and the Order of the Phoenix         1   \n",
       "2       Harper Lee                      To Kill a Mockingbird         2   \n",
       "3      Jane Austen                        Pride and Prejudice         3   \n",
       "4  Stephenie Meyer                                   Twilight         4   \n",
       "\n",
       "                                              genres  \n",
       "0  [Young Adult, Science Fiction, Dystopia, Fanta...  \n",
       "1                             [Fantasy, Young Adult]  \n",
       "2  [Classics, Historical, Historical Fiction, Aca...  \n",
       "3                                [Classics, Romance]  \n",
       "4  [Young Adult, Fantasy, Romance, Paranormal, Va...  "
      ]
     },
     "execution_count": 37,
     "metadata": {},
     "output_type": "execute_result"
    }
   ],
   "source": [
    "books.head()"
   ]
  },
  {
   "cell_type": "markdown",
   "metadata": {},
   "source": [
    "### Label Distribution"
   ]
  },
  {
   "cell_type": "code",
   "execution_count": 38,
   "metadata": {},
   "outputs": [],
   "source": [
    "genres = [item for sublist in list(books.genres) for item in sublist]\n",
    "all_genres = nltk.FreqDist(genres)\n",
    "all_genres_df = pd.DataFrame({'Genre': list(all_genres.keys()), 'Count': list(all_genres.values())})"
   ]
  },
  {
   "cell_type": "code",
   "execution_count": 39,
   "metadata": {},
   "outputs": [
    {
     "data": {
      "image/png": "[encoded data removed]",
      "text/plain": [
       "<Figure size 1080x1080 with 1 Axes>"
      ]
     },
     "metadata": {
      "needs_background": "light"
     },
     "output_type": "display_data"
    }
   ],
   "source": [
    "g = all_genres_df.nlargest(columns=\"Count\", n = 10)\n",
    "plt.figure(figsize=(15,15))\n",
    "ax = sns.barplot(data=g, x=\"Genre\", y=\"Count\")\n",
    "ax.set(ylabel = 'Count')\n",
    "plt.show()"
   ]
  },
  {
   "cell_type": "code",
   "execution_count": 40,
   "metadata": {},
   "outputs": [],
   "source": [
    "# List of top 10 occuring genres\n",
    "all_genres_df = all_genres_df.sort_values('Count', ascending=False)\n",
    "top_genres = list(all_genres_df['Genre'][:10])"
   ]
  },
  {
   "cell_type": "code",
   "execution_count": 41,
   "metadata": {},
   "outputs": [
    {
     "name": "stdout",
     "output_type": "stream",
     "text": [
      "['Fantasy', 'Romance', 'Young Adult', 'Historical', 'Paranormal', 'Mystery', 'Science Fiction', 'Historical Fiction', 'Classics', 'Contemporary']\n"
     ]
    }
   ],
   "source": [
    "print(top_genres)"
   ]
  },
  {
   "cell_type": "code",
   "execution_count": 42,
   "metadata": {},
   "outputs": [],
   "source": [
    "# Filter genres not in top 10\n",
    "books['genres'] = books.genres.apply(lambda x: [i for i in x if i in top_genres])"
   ]
  },
  {
   "cell_type": "code",
   "execution_count": 43,
   "metadata": {},
   "outputs": [],
   "source": [
    "# Limit to first three labels\n",
    "books['genres'] = books['genres'].str[:3]"
   ]
  },
  {
   "cell_type": "code",
   "execution_count": 44,
   "metadata": {},
   "outputs": [],
   "source": [
    "# Remove rows with empty genres (books with genres not in top 10)\n",
    "books = books[books['genres'].map(lambda d: len(d)) > 0]"
   ]
  },
  {
   "cell_type": "code",
   "execution_count": 45,
   "metadata": {},
   "outputs": [
    {
     "data": {
      "text/plain": [
       "(37796, 4)"
      ]
     },
     "execution_count": 45,
     "metadata": {},
     "output_type": "execute_result"
    }
   ],
   "source": [
    "books.shape"
   ]
  },
  {
   "cell_type": "code",
   "execution_count": 120,
   "metadata": {},
   "outputs": [
    {
     "data": {
      "text/plain": [
       "array([[0., 0., 1., ..., 0., 1., 1.],\n",
       "       [0., 0., 1., ..., 0., 0., 1.],\n",
       "       [1., 0., 0., ..., 0., 0., 0.],\n",
       "       ...,\n",
       "       [0., 0., 0., ..., 0., 0., 0.],\n",
       "       [0., 1., 0., ..., 0., 0., 1.],\n",
       "       [0., 1., 0., ..., 0., 0., 0.]], dtype=float32)"
      ]
     },
     "execution_count": 120,
     "metadata": {},
     "output_type": "execute_result"
    }
   ],
   "source": [
    "# Use MLB to make multiple binary labels.\n",
    "s = books['genres']\n",
    "\n",
    "mlb = MultiLabelBinarizer()\n",
    "\n",
    "y = np.array(pd.DataFrame(mlb.fit_transform(s),columns=[top_genres], index=books.index)).astype(np.float32)\n",
    "y"
   ]
  },
  {
   "cell_type": "code",
   "execution_count": 121,
   "metadata": {},
   "outputs": [
    {
     "data": {
      "text/plain": [
       "(37796, 10)"
      ]
     },
     "execution_count": 121,
     "metadata": {},
     "output_type": "execute_result"
    }
   ],
   "source": [
    "y.shape"
   ]
  },
  {
   "cell_type": "markdown",
   "metadata": {},
   "source": [
    "## Image processing"
   ]
  },
  {
   "cell_type": "code",
   "execution_count": 65,
   "metadata": {},
   "outputs": [
    {
     "name": "stderr",
     "output_type": "stream",
     "text": [
      "100%|██████████| 37796/37796 [02:29<00:00, 252.80it/s]\n"
     ]
    }
   ],
   "source": [
    "# Store resized images as arrays (Height, Width, Channels) to be our features\n",
    "X = []\n",
    "\n",
    "height = 100\n",
    "width = 60\n",
    "channels = 3\n",
    "\n",
    "for i in tqdm(list(books['img_name'])):\n",
    "    path = IMAGES_PATH + str(i) + '.jpg'\n",
    "    img = image.load_img(path, target_size=(height, width, channels))\n",
    "    img = image.img_to_array(img)\n",
    "    img = img/255.0\n",
    "    X.append(img)"
   ]
  },
  {
   "cell_type": "code",
   "execution_count": 66,
   "metadata": {},
   "outputs": [],
   "source": [
    "X = np.array(X)"
   ]
  },
  {
   "cell_type": "code",
   "execution_count": 67,
   "metadata": {},
   "outputs": [
    {
     "data": {
      "text/plain": [
       "(37796, 100, 60, 3)"
      ]
     },
     "execution_count": 67,
     "metadata": {},
     "output_type": "execute_result"
    }
   ],
   "source": [
    "X.shape"
   ]
  },
  {
   "cell_type": "code",
   "execution_count": 122,
   "metadata": {},
   "outputs": [
    {
     "data": {
      "text/plain": [
       "(37796, 10)"
      ]
     },
     "execution_count": 122,
     "metadata": {},
     "output_type": "execute_result"
    }
   ],
   "source": [
    "y.shape"
   ]
  },
  {
   "cell_type": "code",
   "execution_count": 69,
   "metadata": {},
   "outputs": [
    {
     "data": {
      "text/plain": [
       "<matplotlib.image.AxesImage at 0x1a40201c50>"
      ]
     },
     "execution_count": 69,
     "metadata": {},
     "output_type": "execute_result"
    },
    {
     "data": {
      "image/png": "[encoded data removed]",
      "text/plain": [
       "<Figure size 432x288 with 1 Axes>"
      ]
     },
     "metadata": {
      "needs_background": "light"
     },
     "output_type": "display_data"
    }
   ],
   "source": [
    "# Show rescaled book cover\n",
    "plt.imshow(X[0])"
   ]
  },
  {
   "cell_type": "markdown",
   "metadata": {},
   "source": [
    "### Augmentation"
   ]
  },
  {
   "cell_type": "code",
   "execution_count": 123,
   "metadata": {},
   "outputs": [],
   "source": [
    "datagen = image.ImageDataGenerator(\n",
    "    rotation_range=15,\n",
    "    width_shift_range=0.2,\n",
    "    height_shift_range=0.2,\n",
    "    zoom_range=0.1,\n",
    "    fill_mode='nearest',\n",
    "    featurewise_center=True,\n",
    "    featurewise_std_normalization=True,\n",
    "    shear_range=0.2,\n",
    ")"
   ]
  },
  {
   "cell_type": "code",
   "execution_count": 124,
   "metadata": {},
   "outputs": [
    {
     "data": {
      "text/plain": [
       "<Figure size 432x288 with 0 Axes>"
      ]
     },
     "metadata": {},
     "output_type": "display_data"
    },
    {
     "data": {
      "image/png": "[encoded data removed]",
      "text/plain": [
       "<Figure size 720x720 with 4 Axes>"
      ]
     },
     "metadata": {
      "needs_background": "light"
     },
     "output_type": "display_data"
    }
   ],
   "source": [
    "# visualize data augmentations\n",
    "plt.clf()\n",
    "\n",
    "img = X[0]\n",
    "img = img.reshape((1,) + img.shape)\n",
    "plt.figure(figsize=(10,10))\n",
    "\n",
    "i = 0\n",
    "for batch in datagen.flow(img, batch_size=1):\n",
    "    plt.subplot(2, 2, i + 1)\n",
    "    plt.imshow(image.array_to_img(batch[0]))\n",
    "    i += 1\n",
    "    if i % 4 == 0:\n",
    "        break\n",
    "plt.show()"
   ]
  },
  {
   "cell_type": "markdown",
   "metadata": {},
   "source": [
    "# CNN"
   ]
  },
  {
   "cell_type": "code",
   "execution_count": 125,
   "metadata": {},
   "outputs": [],
   "source": [
    "# Split data into training and testing sets\n",
    "X_train, X_test, y_train, y_test = train_test_split(X, y, random_state = 13, test_size = 0.15)"
   ]
  },
  {
   "cell_type": "code",
   "execution_count": 126,
   "metadata": {},
   "outputs": [],
   "source": [
    "# Split training data into training and validation sets\n",
    "X_train, X_val, y_train, y_val = train_test_split(X_train, y_train, random_state = 13, test_size = 0.20)"
   ]
  },
  {
   "cell_type": "code",
   "execution_count": 137,
   "metadata": {},
   "outputs": [],
   "source": [
    "# datagen.fit(X_train)\n",
    "\n",
    "train_generator = datagen.flow(\n",
    "    X_train,\n",
    "    y_train,\n",
    "    batch_size=128)\n",
    "\n",
    "\n",
    "# do not augment validation data\n",
    "test_datagen = image.ImageDataGenerator()\n",
    "\n",
    "validation_generator = test_datagen.flow(\n",
    "    X_val,\n",
    "    y_val,\n",
    "    batch_size=128)"
   ]
  },
  {
   "cell_type": "code",
   "execution_count": 138,
   "metadata": {},
   "outputs": [],
   "source": [
    "POS_WEIGHT = 10 \n",
    "\n",
    "def weighted_binary_crossentropy(target, output):\n",
    "    \"\"\"\n",
    "    Weighted binary crossentropy between an output tensor \n",
    "    and a target tensor. POS_WEIGHT is used as a multiplier \n",
    "    for the positive targets.\n",
    "\n",
    "    Combination of the following functions:\n",
    "    * keras.losses.binary_crossentropy\n",
    "    * keras.backend.tensorflow_backend.binary_crossentropy\n",
    "    * tf.nn.weighted_cross_entropy_with_logits\n",
    "    \"\"\"\n",
    "    # transform back to logits\n",
    "    _epsilon = tf.convert_to_tensor(tfb.epsilon(), output.dtype.base_dtype)\n",
    "    output = tf.clip_by_value(output, _epsilon, 1 - _epsilon)\n",
    "    output = tf.math.log(output / (1 - output))\n",
    "    # compute weighted loss\n",
    "    loss = tf.nn.weighted_cross_entropy_with_logits(labels=target,\n",
    "                                                    logits=output,\n",
    "                                                    pos_weight=POS_WEIGHT)\n",
    "    return tf.reduce_mean(loss, axis=-1)"
   ]
  },
  {
   "cell_type": "code",
   "execution_count": 207,
   "metadata": {},
   "outputs": [],
   "source": [
    "model = Sequential()\n",
    "model.add(Conv2D(32, (3, 3), activation='relu', input_shape=(height, width, channels)))\n",
    "model.add(MaxPool2D((2, 2)))\n",
    "model.add(BatchNormalization())\n",
    "model.add(Dropout(0.3))\n",
    "\n",
    "model.add(Conv2D(64, (3, 3), activation='relu'))\n",
    "model.add(MaxPool2D((2, 2)))\n",
    "\n",
    "model.add(Conv2D(128, (3, 3), activation='relu'))\n",
    "model.add(MaxPool2D((2, 2)))\n",
    "\n",
    "model.add(Flatten())\n",
    "model.add(Dropout(0.5))\n",
    "model.add(Dense(256, activation='relu'))\n",
    "model.add(BatchNormalization())\n",
    "model.add(Dense(10, activation='sigmoid'))\n",
    "model.compile(loss=weighted_binary_crossentropy,\n",
    "             optimizer=Adam(),\n",
    "             metrics=['binary_accuracy'])"
   ]
  },
  {
   "cell_type": "code",
   "execution_count": 208,
   "metadata": {},
   "outputs": [
    {
     "name": "stdout",
     "output_type": "stream",
     "text": [
      "Model: \"sequential_14\"\n",
      "_________________________________________________________________\n",
      "Layer (type)                 Output Shape              Param #   \n",
      "=================================================================\n",
      "conv2d_42 (Conv2D)           (None, 98, 58, 32)        896       \n",
      "_________________________________________________________________\n",
      "max_pooling2d_42 (MaxPooling (None, 49, 29, 32)        0         \n",
      "_________________________________________________________________\n",
      "batch_normalization_28 (Batc (None, 49, 29, 32)        128       \n",
      "_________________________________________________________________\n",
      "dropout_28 (Dropout)         (None, 49, 29, 32)        0         \n",
      "_________________________________________________________________\n",
      "conv2d_43 (Conv2D)           (None, 47, 27, 64)        18496     \n",
      "_________________________________________________________________\n",
      "max_pooling2d_43 (MaxPooling (None, 23, 13, 64)        0         \n",
      "_________________________________________________________________\n",
      "conv2d_44 (Conv2D)           (None, 21, 11, 128)       73856     \n",
      "_________________________________________________________________\n",
      "max_pooling2d_44 (MaxPooling (None, 10, 5, 128)        0         \n",
      "_________________________________________________________________\n",
      "flatten_14 (Flatten)         (None, 6400)              0         \n",
      "_________________________________________________________________\n",
      "dropout_29 (Dropout)         (None, 6400)              0         \n",
      "_________________________________________________________________\n",
      "dense_28 (Dense)             (None, 256)               1638656   \n",
      "_________________________________________________________________\n",
      "batch_normalization_29 (Batc (None, 256)               1024      \n",
      "_________________________________________________________________\n",
      "dense_29 (Dense)             (None, 10)                2570      \n",
      "=================================================================\n",
      "Total params: 1,735,626\n",
      "Trainable params: 1,735,050\n",
      "Non-trainable params: 576\n",
      "_________________________________________________________________\n"
     ]
    }
   ],
   "source": [
    "model.summary()"
   ]
  },
  {
   "cell_type": "code",
   "execution_count": 209,
   "metadata": {
    "scrolled": false
   },
   "outputs": [
    {
     "name": "stdout",
     "output_type": "stream",
     "text": [
      "WARNING:tensorflow:sample_weight modes were coerced from\n",
      "  ...\n",
      "    to  \n",
      "  ['...']\n",
      "WARNING:tensorflow:sample_weight modes were coerced from\n",
      "  ...\n",
      "    to  \n",
      "  ['...']\n"
     ]
    },
    {
     "name": "stderr",
     "output_type": "stream",
     "text": [
      "/opt/anaconda3/lib/python3.7/site-packages/keras_preprocessing/image/image_data_generator.py:716: UserWarning: This ImageDataGenerator specifies `featurewise_center`, but it hasn't been fit on any training data. Fit it first by calling `.fit(numpy_data)`.\n",
      "  warnings.warn('This ImageDataGenerator specifies '\n",
      "/opt/anaconda3/lib/python3.7/site-packages/keras_preprocessing/image/image_data_generator.py:724: UserWarning: This ImageDataGenerator specifies `featurewise_std_normalization`, but it hasn't been fit on any training data. Fit it first by calling `.fit(numpy_data)`.\n",
      "  warnings.warn('This ImageDataGenerator specifies '\n"
     ]
    },
    {
     "name": "stdout",
     "output_type": "stream",
     "text": [
      "Train for 200 steps, validate for 50 steps\n",
      "Epoch 1/125\n"
     ]
    },
    {
     "name": "stderr",
     "output_type": "stream",
     "text": [
      "/opt/anaconda3/lib/python3.7/site-packages/keras_preprocessing/image/image_data_generator.py:716: UserWarning: This ImageDataGenerator specifies `featurewise_center`, but it hasn't been fit on any training data. Fit it first by calling `.fit(numpy_data)`.\n",
      "  warnings.warn('This ImageDataGenerator specifies '\n",
      "/opt/anaconda3/lib/python3.7/site-packages/keras_preprocessing/image/image_data_generator.py:724: UserWarning: This ImageDataGenerator specifies `featurewise_std_normalization`, but it hasn't been fit on any training data. Fit it first by calling `.fit(numpy_data)`.\n",
      "  warnings.warn('This ImageDataGenerator specifies '\n"
     ]
    },
    {
     "name": "stdout",
     "output_type": "stream",
     "text": [
      "200/200 [==============================] - 88s 442ms/step - loss: 1.6455 - binary_accuracy: 0.3919 - val_loss: 1.6134 - val_binary_accuracy: 0.3662\n",
      "Epoch 2/125\n",
      "200/200 [==============================] - 88s 438ms/step - loss: 1.5148 - binary_accuracy: 0.3590 - val_loss: 1.5434 - val_binary_accuracy: 0.3621\n",
      "Epoch 3/125\n",
      "200/200 [==============================] - 88s 441ms/step - loss: 1.4971 - binary_accuracy: 0.3734 - val_loss: 1.5179 - val_binary_accuracy: 0.4012\n",
      "Epoch 4/125\n",
      "200/200 [==============================] - 88s 441ms/step - loss: 1.4869 - binary_accuracy: 0.3858 - val_loss: 1.4815 - val_binary_accuracy: 0.3688\n",
      "Epoch 5/125\n",
      "200/200 [==============================] - 88s 438ms/step - loss: 1.4778 - binary_accuracy: 0.3922 - val_loss: 1.5167 - val_binary_accuracy: 0.4327\n",
      "Epoch 6/125\n",
      "200/200 [==============================] - 89s 444ms/step - loss: 1.4698 - binary_accuracy: 0.4020 - val_loss: 1.4537 - val_binary_accuracy: 0.4354\n",
      "Epoch 7/125\n",
      "200/200 [==============================] - 87s 437ms/step - loss: 1.4626 - binary_accuracy: 0.4100 - val_loss: 1.4631 - val_binary_accuracy: 0.4422\n",
      "Epoch 8/125\n",
      "200/200 [==============================] - 88s 438ms/step - loss: 1.4548 - binary_accuracy: 0.4139 - val_loss: 1.4843 - val_binary_accuracy: 0.4997\n",
      "Epoch 9/125\n",
      "200/200 [==============================] - 88s 440ms/step - loss: 1.4493 - binary_accuracy: 0.4213 - val_loss: 1.5788 - val_binary_accuracy: 0.4489\n",
      "Epoch 10/125\n",
      "200/200 [==============================] - 88s 438ms/step - loss: 1.4446 - binary_accuracy: 0.4236 - val_loss: 1.4983 - val_binary_accuracy: 0.4937\n",
      "Epoch 11/125\n",
      "200/200 [==============================] - 84s 420ms/step - loss: 1.4392 - binary_accuracy: 0.4313 - val_loss: 1.5251 - val_binary_accuracy: 0.4380\n",
      "Epoch 12/125\n",
      "200/200 [==============================] - 86s 428ms/step - loss: 1.4346 - binary_accuracy: 0.4309 - val_loss: 1.4746 - val_binary_accuracy: 0.4267\n",
      "Epoch 13/125\n",
      "200/200 [==============================] - 87s 434ms/step - loss: 1.4273 - binary_accuracy: 0.4384 - val_loss: 1.4667 - val_binary_accuracy: 0.4728\n",
      "Epoch 14/125\n",
      "200/200 [==============================] - 86s 428ms/step - loss: 1.4232 - binary_accuracy: 0.4405 - val_loss: 1.4529 - val_binary_accuracy: 0.4936\n",
      "Epoch 15/125\n",
      "200/200 [==============================] - 85s 426ms/step - loss: 1.4184 - binary_accuracy: 0.4454 - val_loss: 1.4513 - val_binary_accuracy: 0.4442\n",
      "Epoch 16/125\n",
      "200/200 [==============================] - 86s 432ms/step - loss: 1.4163 - binary_accuracy: 0.4488 - val_loss: 1.6936 - val_binary_accuracy: 0.5472\n",
      "Epoch 17/125\n",
      "200/200 [==============================] - 86s 431ms/step - loss: 1.4101 - binary_accuracy: 0.4520 - val_loss: 1.5107 - val_binary_accuracy: 0.5083\n",
      "Epoch 18/125\n",
      "200/200 [==============================] - 86s 432ms/step - loss: 1.4077 - binary_accuracy: 0.4528 - val_loss: 1.4082 - val_binary_accuracy: 0.4926\n",
      "Epoch 19/125\n",
      "200/200 [==============================] - 85s 426ms/step - loss: 1.4033 - binary_accuracy: 0.4579 - val_loss: 1.5089 - val_binary_accuracy: 0.5210\n",
      "Epoch 20/125\n",
      "200/200 [==============================] - 87s 433ms/step - loss: 1.4004 - binary_accuracy: 0.4583 - val_loss: 1.4525 - val_binary_accuracy: 0.5148\n",
      "Epoch 21/125\n",
      "200/200 [==============================] - 86s 429ms/step - loss: 1.3983 - binary_accuracy: 0.4604 - val_loss: 1.4375 - val_binary_accuracy: 0.5249\n",
      "Epoch 22/125\n",
      "200/200 [==============================] - 86s 431ms/step - loss: 1.3961 - binary_accuracy: 0.4639 - val_loss: 1.4684 - val_binary_accuracy: 0.5170\n",
      "Epoch 23/125\n",
      "200/200 [==============================] - 85s 425ms/step - loss: 1.3924 - binary_accuracy: 0.4656 - val_loss: 1.4878 - val_binary_accuracy: 0.5368\n",
      "Epoch 24/125\n",
      "200/200 [==============================] - 85s 424ms/step - loss: 1.3897 - binary_accuracy: 0.4684 - val_loss: 1.4546 - val_binary_accuracy: 0.5243\n",
      "Epoch 25/125\n",
      "200/200 [==============================] - 86s 428ms/step - loss: 1.3843 - binary_accuracy: 0.4714 - val_loss: 1.4249 - val_binary_accuracy: 0.4995\n",
      "Epoch 26/125\n",
      "200/200 [==============================] - 86s 428ms/step - loss: 1.3855 - binary_accuracy: 0.4699 - val_loss: 1.4800 - val_binary_accuracy: 0.5233\n",
      "Epoch 27/125\n",
      "200/200 [==============================] - 85s 426ms/step - loss: 1.3781 - binary_accuracy: 0.4758 - val_loss: 1.4107 - val_binary_accuracy: 0.5196\n",
      "Epoch 28/125\n",
      "200/200 [==============================] - 85s 424ms/step - loss: 1.3770 - binary_accuracy: 0.4766 - val_loss: 1.4973 - val_binary_accuracy: 0.5162\n",
      "Epoch 29/125\n",
      "200/200 [==============================] - 85s 423ms/step - loss: 1.3762 - binary_accuracy: 0.4769 - val_loss: 1.4359 - val_binary_accuracy: 0.5384\n",
      "Epoch 30/125\n",
      "200/200 [==============================] - 86s 429ms/step - loss: 1.3730 - binary_accuracy: 0.4798 - val_loss: 1.4419 - val_binary_accuracy: 0.4960\n",
      "Epoch 31/125\n",
      "200/200 [==============================] - 86s 429ms/step - loss: 1.3699 - binary_accuracy: 0.4808 - val_loss: 1.4661 - val_binary_accuracy: 0.5092\n",
      "Epoch 32/125\n",
      "200/200 [==============================] - 85s 423ms/step - loss: 1.3666 - binary_accuracy: 0.4834 - val_loss: 1.4283 - val_binary_accuracy: 0.5168\n",
      "Epoch 33/125\n",
      "200/200 [==============================] - 85s 423ms/step - loss: 1.3667 - binary_accuracy: 0.4838 - val_loss: 1.4450 - val_binary_accuracy: 0.5148\n",
      "Epoch 34/125\n",
      "200/200 [==============================] - 85s 423ms/step - loss: 1.3648 - binary_accuracy: 0.4863 - val_loss: 1.4340 - val_binary_accuracy: 0.5325\n",
      "Epoch 35/125\n",
      "200/200 [==============================] - 85s 423ms/step - loss: 1.3634 - binary_accuracy: 0.4869 - val_loss: 1.4717 - val_binary_accuracy: 0.5096\n",
      "Epoch 36/125\n",
      "200/200 [==============================] - 85s 423ms/step - loss: 1.3597 - binary_accuracy: 0.4905 - val_loss: 1.4563 - val_binary_accuracy: 0.5133\n",
      "Epoch 37/125\n",
      "200/200 [==============================] - 85s 425ms/step - loss: 1.3561 - binary_accuracy: 0.4930 - val_loss: 1.4194 - val_binary_accuracy: 0.5339\n",
      "Epoch 38/125\n",
      "200/200 [==============================] - 86s 429ms/step - loss: 1.3575 - binary_accuracy: 0.4919 - val_loss: 1.5181 - val_binary_accuracy: 0.5492\n",
      "Epoch 39/125\n",
      "200/200 [==============================] - 87s 437ms/step - loss: 1.3545 - binary_accuracy: 0.4911 - val_loss: 1.4084 - val_binary_accuracy: 0.5327\n",
      "Epoch 40/125\n",
      "200/200 [==============================] - 87s 437ms/step - loss: 1.3482 - binary_accuracy: 0.4970 - val_loss: 1.4963 - val_binary_accuracy: 0.5320\n",
      "Epoch 41/125\n",
      "200/200 [==============================] - 87s 433ms/step - loss: 1.3474 - binary_accuracy: 0.4990 - val_loss: 1.3897 - val_binary_accuracy: 0.5312\n",
      "Epoch 42/125\n",
      "200/200 [==============================] - 87s 435ms/step - loss: 1.3474 - binary_accuracy: 0.4986 - val_loss: 1.4047 - val_binary_accuracy: 0.5085\n",
      "Epoch 43/125\n",
      "200/200 [==============================] - 87s 434ms/step - loss: 1.3473 - binary_accuracy: 0.4990 - val_loss: 1.4028 - val_binary_accuracy: 0.5254\n",
      "Epoch 44/125\n",
      "200/200 [==============================] - 86s 431ms/step - loss: 1.3442 - binary_accuracy: 0.5003 - val_loss: 1.4178 - val_binary_accuracy: 0.5563\n",
      "Epoch 45/125\n",
      "200/200 [==============================] - 83s 416ms/step - loss: 1.3413 - binary_accuracy: 0.5047 - val_loss: 1.3849 - val_binary_accuracy: 0.5163\n",
      "Epoch 46/125\n",
      "200/200 [==============================] - 84s 419ms/step - loss: 1.3390 - binary_accuracy: 0.5034 - val_loss: 1.4226 - val_binary_accuracy: 0.5126\n",
      "Epoch 47/125\n",
      "200/200 [==============================] - 85s 425ms/step - loss: 1.3380 - binary_accuracy: 0.5020 - val_loss: 1.4588 - val_binary_accuracy: 0.5526\n",
      "Epoch 48/125\n",
      "200/200 [==============================] - 85s 427ms/step - loss: 1.3382 - binary_accuracy: 0.5057 - val_loss: 1.4364 - val_binary_accuracy: 0.5284\n",
      "Epoch 49/125\n",
      "200/200 [==============================] - 86s 430ms/step - loss: 1.3337 - binary_accuracy: 0.5065 - val_loss: 1.4112 - val_binary_accuracy: 0.5208\n",
      "Epoch 50/125\n",
      "200/200 [==============================] - 87s 437ms/step - loss: 1.3314 - binary_accuracy: 0.5066 - val_loss: 1.4895 - val_binary_accuracy: 0.5105\n",
      "Epoch 51/125\n",
      "200/200 [==============================] - 87s 436ms/step - loss: 1.3318 - binary_accuracy: 0.5081 - val_loss: 1.4276 - val_binary_accuracy: 0.5488\n",
      "Epoch 52/125\n"
     ]
    },
    {
     "name": "stdout",
     "output_type": "stream",
     "text": [
      "200/200 [==============================] - 87s 435ms/step - loss: 1.3311 - binary_accuracy: 0.5094 - val_loss: 1.4247 - val_binary_accuracy: 0.5400\n",
      "Epoch 53/125\n",
      "200/200 [==============================] - 88s 438ms/step - loss: 1.3294 - binary_accuracy: 0.5107 - val_loss: 1.4040 - val_binary_accuracy: 0.5234\n",
      "Epoch 54/125\n",
      "200/200 [==============================] - 87s 435ms/step - loss: 1.3273 - binary_accuracy: 0.5094 - val_loss: 1.4197 - val_binary_accuracy: 0.5325\n",
      "Epoch 55/125\n",
      "200/200 [==============================] - 87s 436ms/step - loss: 1.3341 - binary_accuracy: 0.5062 - val_loss: 1.3781 - val_binary_accuracy: 0.5154\n",
      "Epoch 56/125\n",
      "200/200 [==============================] - 87s 436ms/step - loss: 1.3217 - binary_accuracy: 0.5150 - val_loss: 1.3982 - val_binary_accuracy: 0.5169\n",
      "Epoch 57/125\n",
      "200/200 [==============================] - 88s 438ms/step - loss: 1.3232 - binary_accuracy: 0.5144 - val_loss: 1.4176 - val_binary_accuracy: 0.5353\n",
      "Epoch 58/125\n",
      "200/200 [==============================] - 86s 428ms/step - loss: 1.3194 - binary_accuracy: 0.5144 - val_loss: 1.4858 - val_binary_accuracy: 0.5516\n",
      "Epoch 59/125\n",
      "200/200 [==============================] - 86s 431ms/step - loss: 1.3165 - binary_accuracy: 0.5182 - val_loss: 1.4079 - val_binary_accuracy: 0.5416\n",
      "Epoch 60/125\n",
      "200/200 [==============================] - 87s 433ms/step - loss: 1.3144 - binary_accuracy: 0.5188 - val_loss: 1.4768 - val_binary_accuracy: 0.5540\n",
      "Epoch 61/125\n",
      "200/200 [==============================] - 86s 429ms/step - loss: 1.3154 - binary_accuracy: 0.5191 - val_loss: 1.4351 - val_binary_accuracy: 0.5362\n",
      "Epoch 62/125\n",
      "200/200 [==============================] - 85s 426ms/step - loss: 1.3155 - binary_accuracy: 0.5184 - val_loss: 1.4061 - val_binary_accuracy: 0.5418\n",
      "Epoch 63/125\n",
      "200/200 [==============================] - 86s 430ms/step - loss: 1.3113 - binary_accuracy: 0.5222 - val_loss: 1.3911 - val_binary_accuracy: 0.5222\n",
      "Epoch 64/125\n",
      "200/200 [==============================] - 87s 433ms/step - loss: 1.3113 - binary_accuracy: 0.5212 - val_loss: 1.4786 - val_binary_accuracy: 0.5514\n",
      "Epoch 65/125\n",
      "200/200 [==============================] - 86s 432ms/step - loss: 1.3090 - binary_accuracy: 0.5237 - val_loss: 1.4977 - val_binary_accuracy: 0.5409\n",
      "Epoch 66/125\n",
      "200/200 [==============================] - 87s 436ms/step - loss: 1.3138 - binary_accuracy: 0.5208 - val_loss: 1.4421 - val_binary_accuracy: 0.5347\n",
      "Epoch 67/125\n",
      "200/200 [==============================] - 87s 434ms/step - loss: 1.3064 - binary_accuracy: 0.5245 - val_loss: 1.3763 - val_binary_accuracy: 0.5317\n",
      "Epoch 68/125\n",
      "200/200 [==============================] - 87s 435ms/step - loss: 1.3046 - binary_accuracy: 0.5241 - val_loss: 1.4201 - val_binary_accuracy: 0.5502\n",
      "Epoch 69/125\n",
      "200/200 [==============================] - 87s 436ms/step - loss: 1.3027 - binary_accuracy: 0.5277 - val_loss: 1.4402 - val_binary_accuracy: 0.5547\n",
      "Epoch 70/125\n",
      "200/200 [==============================] - 87s 434ms/step - loss: 1.3022 - binary_accuracy: 0.5281 - val_loss: 1.4584 - val_binary_accuracy: 0.5613\n",
      "Epoch 71/125\n",
      "200/200 [==============================] - 88s 438ms/step - loss: 1.3033 - binary_accuracy: 0.5259 - val_loss: 1.4245 - val_binary_accuracy: 0.5385\n",
      "Epoch 72/125\n",
      "200/200 [==============================] - 87s 435ms/step - loss: 1.3007 - binary_accuracy: 0.5283 - val_loss: 1.4689 - val_binary_accuracy: 0.5548\n",
      "Epoch 73/125\n",
      "200/200 [==============================] - 87s 437ms/step - loss: 1.2954 - binary_accuracy: 0.5305 - val_loss: 1.5162 - val_binary_accuracy: 0.5739\n",
      "Epoch 74/125\n",
      "200/200 [==============================] - 88s 441ms/step - loss: 1.2958 - binary_accuracy: 0.5320 - val_loss: 1.4409 - val_binary_accuracy: 0.5665\n",
      "Epoch 75/125\n",
      "200/200 [==============================] - 87s 437ms/step - loss: 1.2923 - binary_accuracy: 0.5318 - val_loss: 1.3923 - val_binary_accuracy: 0.5376\n",
      "Epoch 76/125\n",
      "200/200 [==============================] - 87s 437ms/step - loss: 1.2968 - binary_accuracy: 0.5312 - val_loss: 1.4581 - val_binary_accuracy: 0.5554\n",
      "Epoch 77/125\n",
      "200/200 [==============================] - 88s 438ms/step - loss: 1.2942 - binary_accuracy: 0.5320 - val_loss: 1.4664 - val_binary_accuracy: 0.5690\n",
      "Epoch 78/125\n",
      "200/200 [==============================] - 87s 437ms/step - loss: 1.2907 - binary_accuracy: 0.5349 - val_loss: 1.3917 - val_binary_accuracy: 0.5435\n",
      "Epoch 79/125\n",
      "200/200 [==============================] - 88s 439ms/step - loss: 1.2898 - binary_accuracy: 0.5343 - val_loss: 1.4682 - val_binary_accuracy: 0.5654\n",
      "Epoch 80/125\n",
      "200/200 [==============================] - 88s 439ms/step - loss: 1.2899 - binary_accuracy: 0.5372 - val_loss: 1.5103 - val_binary_accuracy: 0.5678\n",
      "Epoch 81/125\n",
      "200/200 [==============================] - 88s 438ms/step - loss: 1.2870 - binary_accuracy: 0.5351 - val_loss: 1.4258 - val_binary_accuracy: 0.5412\n",
      "Epoch 82/125\n",
      "200/200 [==============================] - 89s 444ms/step - loss: 1.2861 - binary_accuracy: 0.5371 - val_loss: 1.4433 - val_binary_accuracy: 0.5463\n",
      "Epoch 83/125\n",
      "200/200 [==============================] - 88s 441ms/step - loss: 1.2836 - binary_accuracy: 0.5385 - val_loss: 1.4362 - val_binary_accuracy: 0.5760\n",
      "Epoch 84/125\n",
      "200/200 [==============================] - 88s 441ms/step - loss: 1.2807 - binary_accuracy: 0.5399 - val_loss: 1.4136 - val_binary_accuracy: 0.5708\n",
      "Epoch 85/125\n",
      "200/200 [==============================] - 86s 429ms/step - loss: 1.2842 - binary_accuracy: 0.5387 - val_loss: 1.5166 - val_binary_accuracy: 0.5566\n",
      "Epoch 86/125\n",
      "200/200 [==============================] - 86s 430ms/step - loss: 1.2826 - binary_accuracy: 0.5397 - val_loss: 1.4219 - val_binary_accuracy: 0.5458\n",
      "Epoch 87/125\n",
      "200/200 [==============================] - 86s 432ms/step - loss: 1.2752 - binary_accuracy: 0.5438 - val_loss: 1.4483 - val_binary_accuracy: 0.5581\n",
      "Epoch 88/125\n",
      "200/200 [==============================] - 86s 431ms/step - loss: 1.2777 - binary_accuracy: 0.5435 - val_loss: 1.4640 - val_binary_accuracy: 0.5731\n",
      "Epoch 89/125\n",
      "200/200 [==============================] - 85s 427ms/step - loss: 1.2777 - binary_accuracy: 0.5433 - val_loss: 1.4384 - val_binary_accuracy: 0.5597\n",
      "Epoch 90/125\n",
      "200/200 [==============================] - 85s 424ms/step - loss: 1.2748 - binary_accuracy: 0.5456 - val_loss: 1.5058 - val_binary_accuracy: 0.5794\n",
      "Epoch 91/125\n",
      "200/200 [==============================] - 85s 423ms/step - loss: 1.2749 - binary_accuracy: 0.5453 - val_loss: 1.4096 - val_binary_accuracy: 0.5577\n",
      "Epoch 92/125\n",
      "200/200 [==============================] - 85s 424ms/step - loss: 1.2721 - binary_accuracy: 0.5456 - val_loss: 1.4217 - val_binary_accuracy: 0.5571\n",
      "Epoch 93/125\n",
      "200/200 [==============================] - 85s 425ms/step - loss: 1.2677 - binary_accuracy: 0.5472 - val_loss: 1.4284 - val_binary_accuracy: 0.5578\n",
      "Epoch 94/125\n",
      "200/200 [==============================] - 85s 424ms/step - loss: 1.2712 - binary_accuracy: 0.5478 - val_loss: 1.4756 - val_binary_accuracy: 0.5682\n",
      "Epoch 95/125\n",
      "200/200 [==============================] - 86s 430ms/step - loss: 1.2679 - binary_accuracy: 0.5489 - val_loss: 1.4455 - val_binary_accuracy: 0.5448\n",
      "Epoch 96/125\n",
      "200/200 [==============================] - 86s 432ms/step - loss: 1.2665 - binary_accuracy: 0.5486 - val_loss: 1.5006 - val_binary_accuracy: 0.5641\n",
      "Epoch 97/125\n",
      "200/200 [==============================] - 84s 420ms/step - loss: 1.2646 - binary_accuracy: 0.5518 - val_loss: 1.4932 - val_binary_accuracy: 0.5442\n",
      "Epoch 98/125\n",
      "200/200 [==============================] - 84s 419ms/step - loss: 1.2672 - binary_accuracy: 0.5493 - val_loss: 1.4233 - val_binary_accuracy: 0.5625\n",
      "Epoch 99/125\n",
      "200/200 [==============================] - 84s 420ms/step - loss: 1.2653 - binary_accuracy: 0.5490 - val_loss: 1.6097 - val_binary_accuracy: 0.5718\n",
      "Epoch 100/125\n",
      "200/200 [==============================] - 86s 429ms/step - loss: 1.2632 - binary_accuracy: 0.5506 - val_loss: 1.4665 - val_binary_accuracy: 0.5636\n",
      "Epoch 101/125\n",
      "200/200 [==============================] - 85s 426ms/step - loss: 1.2651 - binary_accuracy: 0.5499 - val_loss: 1.4508 - val_binary_accuracy: 0.5649\n",
      "Epoch 102/125\n",
      "200/200 [==============================] - 86s 431ms/step - loss: 1.2642 - binary_accuracy: 0.5506 - val_loss: 1.4935 - val_binary_accuracy: 0.5578\n"
     ]
    },
    {
     "name": "stdout",
     "output_type": "stream",
     "text": [
      "Epoch 103/125\n",
      "200/200 [==============================] - 85s 425ms/step - loss: 1.2543 - binary_accuracy: 0.5561 - val_loss: 1.4690 - val_binary_accuracy: 0.5592\n",
      "Epoch 104/125\n",
      "200/200 [==============================] - 85s 424ms/step - loss: 1.2588 - binary_accuracy: 0.5553 - val_loss: 1.4780 - val_binary_accuracy: 0.5512\n",
      "Epoch 105/125\n",
      "200/200 [==============================] - 85s 425ms/step - loss: 1.2590 - binary_accuracy: 0.5536 - val_loss: 1.4321 - val_binary_accuracy: 0.5580\n",
      "Epoch 106/125\n",
      "200/200 [==============================] - 86s 431ms/step - loss: 1.2566 - binary_accuracy: 0.5557 - val_loss: 1.4301 - val_binary_accuracy: 0.5665\n",
      "Epoch 107/125\n",
      "200/200 [==============================] - 86s 431ms/step - loss: 1.2537 - binary_accuracy: 0.5570 - val_loss: 1.4642 - val_binary_accuracy: 0.5722\n",
      "Epoch 108/125\n",
      "200/200 [==============================] - 85s 426ms/step - loss: 1.2547 - binary_accuracy: 0.5565 - val_loss: 1.4922 - val_binary_accuracy: 0.5662\n",
      "Epoch 109/125\n",
      "200/200 [==============================] - 85s 426ms/step - loss: 1.2546 - binary_accuracy: 0.5570 - val_loss: 1.4427 - val_binary_accuracy: 0.5625\n",
      "Epoch 110/125\n",
      "200/200 [==============================] - 85s 425ms/step - loss: 1.2553 - binary_accuracy: 0.5561 - val_loss: 1.4153 - val_binary_accuracy: 0.5767\n",
      "Epoch 111/125\n",
      "200/200 [==============================] - 85s 425ms/step - loss: 1.2524 - binary_accuracy: 0.5583 - val_loss: 1.4727 - val_binary_accuracy: 0.5599\n",
      "Epoch 112/125\n",
      "200/200 [==============================] - 85s 426ms/step - loss: 1.2510 - binary_accuracy: 0.5569 - val_loss: 1.4595 - val_binary_accuracy: 0.5717\n",
      "Epoch 113/125\n",
      "200/200 [==============================] - 85s 426ms/step - loss: 1.2484 - binary_accuracy: 0.5609 - val_loss: 1.4710 - val_binary_accuracy: 0.5665\n",
      "Epoch 114/125\n",
      "200/200 [==============================] - 85s 426ms/step - loss: 1.2489 - binary_accuracy: 0.5600 - val_loss: 1.4639 - val_binary_accuracy: 0.5616\n",
      "Epoch 115/125\n",
      "200/200 [==============================] - 85s 426ms/step - loss: 1.2455 - binary_accuracy: 0.5627 - val_loss: 1.4622 - val_binary_accuracy: 0.5604\n",
      "Epoch 116/125\n",
      "200/200 [==============================] - 85s 426ms/step - loss: 1.2477 - binary_accuracy: 0.5604 - val_loss: 1.4826 - val_binary_accuracy: 0.5868\n",
      "Epoch 117/125\n",
      "200/200 [==============================] - 85s 426ms/step - loss: 1.2488 - binary_accuracy: 0.5595 - val_loss: 1.4629 - val_binary_accuracy: 0.5488\n",
      "Epoch 118/125\n",
      "200/200 [==============================] - 85s 425ms/step - loss: 1.2429 - binary_accuracy: 0.5622 - val_loss: 1.4804 - val_binary_accuracy: 0.5688\n",
      "Epoch 119/125\n",
      "200/200 [==============================] - 85s 424ms/step - loss: 1.2396 - binary_accuracy: 0.5653 - val_loss: 1.5351 - val_binary_accuracy: 0.5853\n",
      "Epoch 120/125\n",
      "200/200 [==============================] - 85s 425ms/step - loss: 1.2434 - binary_accuracy: 0.5645 - val_loss: 1.4742 - val_binary_accuracy: 0.5801\n",
      "Epoch 121/125\n",
      "200/200 [==============================] - 84s 419ms/step - loss: 1.2409 - binary_accuracy: 0.5637 - val_loss: 1.4712 - val_binary_accuracy: 0.5683\n",
      "Epoch 122/125\n",
      "200/200 [==============================] - 84s 419ms/step - loss: 1.2363 - binary_accuracy: 0.5664 - val_loss: 1.5041 - val_binary_accuracy: 0.5718\n",
      "Epoch 123/125\n",
      "200/200 [==============================] - 82s 409ms/step - loss: 1.2389 - binary_accuracy: 0.5663 - val_loss: 1.5160 - val_binary_accuracy: 0.5735\n",
      "Epoch 124/125\n",
      "200/200 [==============================] - 82s 410ms/step - loss: 1.2363 - binary_accuracy: 0.5680 - val_loss: 1.4983 - val_binary_accuracy: 0.5656\n",
      "Epoch 125/125\n",
      "200/200 [==============================] - 81s 406ms/step - loss: 1.2315 - binary_accuracy: 0.5688 - val_loss: 1.5224 - val_binary_accuracy: 0.5828\n"
     ]
    }
   ],
   "source": [
    "history = model.fit(\n",
    "    train_generator,\n",
    "    steps_per_epoch=int(len(X_train)/128),\n",
    "    epochs= 125,\n",
    "    validation_data=validation_generator,\n",
    "    validation_steps=50,\n",
    "    verbose=1)"
   ]
  },
  {
   "cell_type": "code",
   "execution_count": 210,
   "metadata": {},
   "outputs": [
    {
     "data": {
      "image/png": "[encoded data removed]",
      "text/plain": [
       "<Figure size 432x288 with 1 Axes>"
      ]
     },
     "metadata": {
      "needs_background": "light"
     },
     "output_type": "display_data"
    },
    {
     "data": {
      "image/png": "[encoded data removed]",
      "text/plain": [
       "<Figure size 432x288 with 1 Axes>"
      ]
     },
     "metadata": {
      "needs_background": "light"
     },
     "output_type": "display_data"
    }
   ],
   "source": [
    "# plot error curves\n",
    "acc = history.history['binary_accuracy']\n",
    "val_acc = history.history['val_binary_accuracy']\n",
    "loss = history.history['loss']\n",
    "val_loss = history.history['val_loss']\n",
    "\n",
    "epochs = range(1, len(acc) + 1)\n",
    "\n",
    "plt.plot(epochs, acc, label='Training acc')\n",
    "plt.plot(epochs, val_acc, label='Validation acc')\n",
    "plt.title('Training and validation accuracy')\n",
    "plt.legend()\n",
    "plt.figure()\n",
    "plt.plot(epochs, loss, label='Training loss')\n",
    "plt.plot(epochs, val_loss, label='Validation loss')\n",
    "plt.title('Training and validation loss')\n",
    "plt.legend()\n",
    "plt.show()"
   ]
  },
  {
   "cell_type": "code",
   "execution_count": 252,
   "metadata": {},
   "outputs": [],
   "source": [
    "predictions = model.predict(X_test)"
   ]
  },
  {
   "cell_type": "code",
   "execution_count": 253,
   "metadata": {},
   "outputs": [],
   "source": [
    "def show_example(id):\n",
    "    plt.imshow(X_test[id])\n",
    "    actual_labels = np.nonzero(y_test[id])[0]\n",
    "    label_count = len(actual_labels)\n",
    "    top_predictions = np.argsort(-predictions[id])[:label_count]\n",
    "    sorted_genres = sorted(top_genres)\n",
    "\n",
    "    print(\"Prediction labels: \" + \", \".join([sorted_genres[index] + \": \" + str(predictions[id][index]) for index in top_predictions]))\n",
    "    print(\"Actual labels: \" + \", \".join([sorted_genres[index] for index in actual_labels]))\n",
    "    print(\"Accuracy: \", len(np.intersect1d(top_predictions, actual_labels))/label_count)"
   ]
  },
  {
   "cell_type": "code",
   "execution_count": 344,
   "metadata": {
    "scrolled": true
   },
   "outputs": [
    {
     "name": "stdout",
     "output_type": "stream",
     "text": [
      "Prediction labels: Fantasy: 0.90330344, Science Fiction: 0.7726756\n",
      "Actual labels: Fantasy, Science Fiction\n",
      "Accuracy:  1.0\n"
     ]
    },
    {
     "data": {
      "image/png": "[encoded data removed]",
      "text/plain": [
       "<Figure size 432x288 with 1 Axes>"
      ]
     },
     "metadata": {
      "needs_background": "light"
     },
     "output_type": "display_data"
    }
   ],
   "source": [
    "show_example(20)"
   ]
  },
  {
   "cell_type": "code",
   "execution_count": 345,
   "metadata": {},
   "outputs": [
    {
     "data": {
      "text/plain": [
       "array([0.62151927, 0.05066258, 0.90330344, 0.51236516, 0.43106022,\n",
       "       0.7533179 , 0.25256532, 0.3024002 , 0.7726756 , 0.5346045 ],\n",
       "      dtype=float32)"
      ]
     },
     "execution_count": 345,
     "metadata": {},
     "output_type": "execute_result"
    }
   ],
   "source": [
    "predictions[20]"
   ]
  },
  {
   "cell_type": "code",
   "execution_count": 369,
   "metadata": {},
   "outputs": [
    {
     "data": {
      "text/plain": [
       "0.45023515579071127"
      ]
     },
     "execution_count": 369,
     "metadata": {},
     "output_type": "execute_result"
    }
   ],
   "source": [
    "# Accuracy takes the number of actual labels (1-3) and compares them with the top ranked predicted labels\n",
    "# Ex: A book has three labels, the three highest predicted labels are selected and compared. \n",
    "# The accuracy for that book is the percentage of correct labels. For each label that wasn't predicted,\n",
    "# a closeness value is added to the row accuracy.\n",
    "# The overall accuracy is the average of all books.\n",
    "\n",
    "binary_predictions = []\n",
    "\n",
    "accuracy = 0.0\n",
    "for i in range(y_test.shape[0]):\n",
    "    actual_labels = np.nonzero(y_test[i])[0]\n",
    "    label_count = len(actual_labels)\n",
    "    \n",
    "    top_predictions = np.argsort(-predictions[i])[:label_count]\n",
    "\n",
    "    row_accuracy = len(np.intersect1d(top_predictions, actual_labels))/label_count\n",
    "    accuracy += row_accuracy\n",
    "    \n",
    "    binary_predictions.append([0 if k not in list(top_predictions) else 1 for k in range(10)])\n",
    "    \n",
    "accuracy = accuracy/y_test.shape[0]\n",
    "accuracy"
   ]
  },
  {
   "cell_type": "code",
   "execution_count": 339,
   "metadata": {},
   "outputs": [
    {
     "data": {
      "text/plain": [
       "0.19580246913580246"
      ]
     },
     "execution_count": 339,
     "metadata": {},
     "output_type": "execute_result"
    }
   ],
   "source": [
    "hamming_loss(y_test, binary_predictions)"
   ]
  },
  {
   "cell_type": "code",
   "execution_count": 340,
   "metadata": {},
   "outputs": [
    {
     "data": {
      "text/plain": [
       "0.3916637272192827"
      ]
     },
     "execution_count": 340,
     "metadata": {},
     "output_type": "execute_result"
    }
   ],
   "source": [
    "jaccard_score(y_test, binary_predictions, average='samples')"
   ]
  },
  {
   "cell_type": "code",
   "execution_count": 367,
   "metadata": {},
   "outputs": [
    {
     "data": {
      "text/plain": [
       "0.3333333333333333"
      ]
     },
     "execution_count": 367,
     "metadata": {},
     "output_type": "execute_result"
    }
   ],
   "source": [
    "jaccard_score([0, 1, 1], [1, 1, 0])"
   ]
  },
  {
   "cell_type": "code",
   "execution_count": 376,
   "metadata": {},
   "outputs": [
    {
     "data": {
      "text/plain": [
       "10957"
      ]
     },
     "execution_count": 376,
     "metadata": {},
     "output_type": "execute_result"
    }
   ],
   "source": []
  },
  {
   "cell_type": "code",
   "execution_count": 411,
   "metadata": {},
   "outputs": [],
   "source": [
    "def show_random_sample():\n",
    "    id = random.choice(range(len(X)))\n",
    "    guess = model.predict(np.array([X[id]]))[0]\n",
    "    plt.imshow(X[id])\n",
    "    actual_labels = np.nonzero(y[id])[0]\n",
    "    label_count = len(actual_labels)\n",
    "    top_predictions = np.argsort(-guess)[:label_count]\n",
    "    sorted_genres = sorted(top_genres)\n",
    "\n",
    "    print(\"Prediction labels: \" + \", \".join([sorted_genres[index] + \": \" + str(guess[index]) for index in top_predictions]))\n",
    "    print(\"Actual labels: \" + \", \".join([sorted_genres[index] for index in actual_labels]))\n",
    "    print(\"Accuracy: \", len(np.intersect1d(top_predictions, actual_labels))/label_count)"
   ]
  },
  {
   "cell_type": "code",
   "execution_count": 426,
   "metadata": {},
   "outputs": [
    {
     "name": "stdout",
     "output_type": "stream",
     "text": [
      "Prediction labels: Fantasy: 0.92341477, Young Adult: 0.86143136\n",
      "Actual labels: Contemporary, Young Adult\n",
      "Accuracy:  0.5\n"
     ]
    },
    {
     "data": {
      "image/png": "[encoded data removed]",
      "text/plain": [
       "<Figure size 432x288 with 1 Axes>"
      ]
     },
     "metadata": {
      "needs_background": "light"
     },
     "output_type": "display_data"
    }
   ],
   "source": [
    "show_random_sample()"
   ]
  },
  {
   "cell_type": "code",
   "execution_count": null,
   "metadata": {},
   "outputs": [],
   "source": []
  }
 ],
 "metadata": {
  "kernelspec": {
   "display_name": "Python 3",
   "language": "python",
   "name": "python3"
  },
  "language_info": {
   "codemirror_mode": {
    "name": "ipython",
    "version": 3
   },
   "file_extension": ".py",
   "mimetype": "text/x-python",
   "name": "python",
   "nbconvert_exporter": "python",
   "pygments_lexer": "ipython3",
   "version": "3.7.6"
  }
 },
 "nbformat": 4,
 "nbformat_minor": 2
}
